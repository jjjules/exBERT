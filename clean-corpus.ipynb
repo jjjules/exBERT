{
 "cells": [
  {
   "cell_type": "code",
   "execution_count": 1,
   "metadata": {},
   "outputs": [],
   "source": [
    "import re\n",
    "\n",
    "filepath = '.data//deep_learning_corpus.txt'"
   ]
  },
  {
   "cell_type": "code",
   "execution_count": 2,
   "metadata": {},
   "outputs": [],
   "source": [
    "with open(filepath, 'r') as fp:\n",
    "    corpus_raw = fp.read().split('\\n\\n\\n\\n\\n')"
   ]
  },
  {
   "cell_type": "code",
   "execution_count": 3,
   "metadata": {},
   "outputs": [
    {
     "name": "stdout",
     "output_type": "stream",
     "text": [
      "[8580, 142103, 161644, 112244, 356004, 72331, 55831, 133866, 224178, 24666, 25730, 23198, 12600, 36138, 28372, 121395, 116671, 37869, 134623, 65586, 86287, 15098, 53625, 31043, 64047, 33813, 52926, 51036, 132454, 42954, 6595, 45631, 37612, 137919, 88632, 63357, 55796, 53555, 55225, 37161, 30340, 35584, 55219, 33986, 46811, 174003, 55948, 69210, 39471, 49741, 63500, 72326, 38951, 104703, 80274, 26067, 32557, 10647, 63174, 47609, 84564, 25389, 90939, 51121, 44802, 221984, 184533, 46509, 30136, 117365, 89576, 143112, 120265, 85859, 155781, 140351, 119843, 187337, 45901, 100552, 229087, 157390, 80684, 79563, 152513, 90716, 71792, 109505, 34535, 59793, 128758, 180649, 36933, 68840, 211959, 4327, 89975, 46650, 57728, 63410, 56381, 159421, 11892, 33254, 23265, 58108, 30365, 144549, 94635, 101996, 22309, 68146, 6690, 71501, 21555, 85089, 91820, 20667, 18871, 34720, 37056, 48373, 88992, 73279, 38978, 85864, 125887, 81737, 21088, 39133, 85673, 157178, 36378, 78638, 189287, 41406, 113477, 37691, 20502, 82033, 13076, 79701, 120616, 113082, 39108, 76966, 25895, 145173, 147642, 73568, 39651, 40490, 82268, 6269, 79479, 50200, 101149, 69720, 156233, 30364, 94372, 115725, 4024, 18212, 71702, 18938, 21449, 23106, 12051, 26464, 49730, 78811, 13447, 17949, 51897, 104801, 88999, 72634, 27105, 84413, 132845, 55789, 77280, 20151, 17433, 58520, 63097, 18716, 17015, 3114, 44441, 85845, 116347, 42580, 10643, 35758, 61478, 43194, 42877, 10519, 82782, 194035, 49903, 48350, 34359, 81517, 134750, 8318, 35393, 49480, 93869, 36628, 58562, 50103, 122627, 153214, 40515, 18152, 24568, 65909, 47596, 32324, 32326, 71951, 3855, 2385, 14328, 33386, 37210, 128260, 60179, 42619, 18984, 95940, 89573, 73821, 45893, 12889, 63567, 31193, 30257, 35204, 8690, 35305, 42137, 25958, 8327, 34685, 50158, 48938, 9947, 158182, 20842, 80939, 92490, 88518, 53071, 8826, 46535, 113110, 57490, 31937, 24824, 17026, 33192, 13253, 35725, 29224, 172914, 32933, 76009, 64034, 20105, 62158, 44034, 16334, 20658, 28742, 47139, 147250, 25876, 35928, 25350, 68004, 61285, 101066, 48068, 4261, 10150, 25735, 25345, 30172, 82771, 14328, 7594, 52672, 66042, 52991, 41817, 14514, 44442, 45955, 21180, 18125, 28296, 46626, 10114, 19456, 93422, 35354, 8530, 33257, 18164, 30319, 13965, 66415, 51892, 43739, 11728, 15979, 1858, 19769, 109041, 8371, 52092, 87705, 28124, 51494, 25015, 90754, 50825, 27630, 232358, 31567, 26347, 19979, 16739, 37249, 56101, 29928, 6723, 13842, 30042, 17078, 13277, 4126, 37174, 57942, 35949, 27536, 17983, 24820, 54401, 20457, 15176, 25324, 5361, 33007, 43428, 11155, 10515, 80746, 36069, 6466, 19123, 62803, 3061, 21949, 82861, 19376, 30473, 119767, 14993, 48670, 26152, 6354, 20618, 7632, 15272, 41707, 59026, 24827, 6801, 118172, 13664, 22741, 38051, 27858, 23196, 41569, 36304, 33899, 35925, 17539, 16029, 8553, 49590, 115212, 22981, 20582, 19151, 27863, 9530, 28342, 27126, 36476, 21137, 18169, 5446, 14223, 2039, 11566, 14467, 19168, 120359, 167299, 17146, 69648, 13405, 28375, 18303, 31743, 37275, 11468, 23913, 48504, 76831, 14326, 61312, 49120, 31557, 39250, 85141, 14619, 45488, 82498, 41822, 54866, 109422, 32265, 27169, 36270, 12383, 17433, 164835, 10244, 125937, 14059, 17335, 75650, 33480, 28104, 19651, 39386, 26710, 15155, 12484, 67262, 221215, 24166, 27535, 11221, 26738, 33126, 2588, 9742, 18534, 34499, 19639, 4471, 36262, 21316, 12282, 51264, 43698, 18997, 22677, 31054, 6534, 66655, 12553, 46677, 19658, 9135, 4069, 16767, 9431, 31419, 1352, 198607, 50532, 12762, 5098, 10910, 32905, 63961, 31586, 11380, 12530, 5426, 17260, 8275, 70827, 24170, 61515, 44820, 12797, 47694, 41279, 17750, 28318, 5097, 86776, 33140, 17678, 63512, 17958, 9114, 14295, 15845, 70513, 89269, 17446, 29463, 51164, 9817, 27222, 11200, 69231, 9880, 19123, 34347, 53427, 2774, 13783, 12363, 10984, 104486, 19770, 25731, 36010, 21273, 2494, 39666, 8150, 39547, 186895, 17316, 13397, 9548, 12986, 79284, 9659, 7054, 24276, 47298, 8988, 20553, 3021, 13544, 112849, 25168, 67688, 11915, 6482, 69166, 25030, 7915, 80561, 42026, 8098, 16261, 60853, 7518, 45821, 38355, 3340, 25397, 63989, 91723, 43254, 5749, 32436, 14733, 6646, 18234, 20790, 81974, 3695, 8715, 35717, 9460, 28515, 16645, 26288, 55233, 180882, 12508, 18786, 9408, 8672, 7975, 40385, 72204, 20281, 673, 61490, 6712, 9699, 64066, 17258, 39381, 59086, 5409, 62610, 25111, 15312, 49873, 34996, 57963, 42374, 90493, 5826, 39735, 35453, 120433, 11351, 49358, 4422, 4312, 8620, 6664, 7778, 11756, 5815, 114, 22608, 45038, 38681, 23695, 9540, 63486, 30136, 30990, 2996, 25805, 25712, 5221, 12854, 41450, 11734, 4237, 11584, 3236, 25464, 7587, 55810, 22362, 11668, 53954, 6352, 14408, 153602, 13393, 8955, 66843, 5351, 8861, 4656, 62101, 81799, 94061, 104973, 26369, 2970, 102128, 26556, 50862, 9376, 116699, 8546, 95036, 6839, 57091, 33556, 23161, 21544, 69760, 23343, 10629, 27370, 3601, 14802, 29506, 14795, 71038, 3401, 48919, 81784, 33110, 15497, 33841, 30813, 49794, 91724, 100089, 18372, 24341, 44501, 19459, 51682, 22970, 133486, 74870, 112090, 53630, 36530, 53014, 19689, 37500, 125823, 80757, 58854, 41790, 84281, 32847, 8719, 41642, 14657, 5988, 80518, 82005, 25718, 3977, 91274, 89020, 16904, 17351, 5327, 8985, 15996, 79513, 15007, 82700, 36917, 6669, 15612, 33097, 26457, 12078, 23078, 48621, 122393, 6290, 10150, 12930, 6916, 24493, 74085, 12515, 42103, 113600, 8286, 9243, 8088, 13564, 52731, 124806, 36569, 18015, 27096, 77401, 8353, 9416, 5040, 14802, 16847, 34971, 64313, 9389, 9850, 21227, 10976, 9764, 22438, 20866, 32143, 9099, 13737, 12204, 4451, 68438, 5810, 21271, 19326, 7592, 33585, 23503, 19071, 93702, 22620, 17588, 10429, 103872, 50618, 5121, 33538, 9498, 12844, 5766, 7150, 53551, 14634, 12774, 47748, 30986, 51188, 10652, 23425, 30610, 11592, 84170, 101432, 3652, 13424, 30689, 17686, 9488, 13287, 7323, 1381, 8091, 6872, 24813, 57742, 20847, 50756, 56893, 248689, 2641, 35336, 7320, 238186, 12209, 6665, 4617, 4926, 20661, 2355, 25996, 54960, 14792, 16898, 6812, 17314, 5092, 20437, 13853, 26867, 8619, 12888, 5387, 41855, 8894, 3861, 13638, 9680, 8772, 101254, 5021, 75047, 2095, 6925, 32757, 17338, 6559, 6135, 12074, 24697, 50495, 9811, 7062, 8901, 14140, 4508, 23083, 10600, 9648, 17865, 22078, 20524, 8164, 3869, 83074, 3487, 29624]\n"
     ]
    }
   ],
   "source": [
    "NQGENTEXT = 50\n",
    "NPUZZLES = 28\n",
    "\n",
    "corpus_raw = [corpus_raw for i, corpus_raw in enumerate(corpus_raw) if i==0 or i > NQGENTEXT+NPUZZLES]\n",
    "print([len(text) for text in corpus_raw])"
   ]
  },
  {
   "cell_type": "code",
   "execution_count": 10,
   "metadata": {},
   "outputs": [],
   "source": [
    "def remove_section(section_name, text):\n",
    "    text = re.sub(fr'=+{section_name}=+\\n.*(?:=|$)', r'¬', text, flags=re.DOTALL)\n",
    "    text = re.sub(r'¬$', '', text)\n",
    "\n",
    "    return text\n",
    "\n",
    "def clean_wiki_article(raw_text):\n",
    "    text = raw_text\n",
    "\n",
    "    regex = re.compile(r'\\n\\n')\n",
    "    end_header = regex.search(text).start() + 2\n",
    "    text = text[end_header:]\n",
    "\n",
    "    # tables\n",
    "    text = re.sub(r'\\{\\|.+?\\|\\}', '', text, flags=re.DOTALL)\n",
    "    \n",
    "    # quotes\n",
    "    text = re.sub(r'\\{\\{quote \\| (.+?)\\}\\}\\n', r'\\1\\n', text)\n",
    "    text = re.sub(r'<blockquote.*?>(.*?)</blockquote>', r'\\1\\n', text, flags=re.DOTALL)\n",
    "\n",
    "    # images\n",
    "    text = re.sub(r'\\[\\[File:.*\\n', '', text)\n",
    "    \n",
    "    # random tags\n",
    "    tags = ['poem', 'gallery', 'ref']\n",
    "    for tag in tags:\n",
    "        text = re.sub(fr'<{tag}.*?>.*?</{tag}>', '', text, flags=re.DOTALL)\n",
    "\n",
    "    # special links\n",
    "    text = re.sub(r'\\{\\{[^}]+\\}\\}', '', text)\n",
    "    \n",
    "    # wiki links\n",
    "    text = re.sub(r'\\[\\[(?:[^|\\]]+\\|)?([^\\]]+)\\]\\]', r'\\1', text)\n",
    "\n",
    "    # comments\n",
    "    text = re.sub(r'<!--[^-]*-->', '', text)\n",
    "\n",
    "    # math\n",
    "    text = re.sub(r'(?::: )?<math>.*?</math>', '', text)\n",
    "\n",
    "    # '''Artistotle'''\n",
    "    text = re.sub(r\"'{2,}([- \\w]+)'{2,}\", r'\\1', text)\n",
    "\n",
    "    # remove sections\n",
    "    for section in ['References', 'Sources', 'Citations', 'See also', 'Notes', 'External links', 'Further reading']:\n",
    "        text = remove_section(section, text)\n",
    "\n",
    "    # title\n",
    "    text = re.sub(r'\\s*=+(.*?)=+', r'\\1:', text)\n",
    "\n",
    "    replace_chars = {\n",
    "        r'\\&nbsp;?': ' ',\n",
    "    }\n",
    "    for c, r in replace_chars.items():\n",
    "        text = re.sub(c, r, text)\n",
    "\n",
    "    return text\n"
   ]
  },
  {
   "cell_type": "code",
   "execution_count": 12,
   "metadata": {},
   "outputs": [],
   "source": [
    "corpus = corpus_raw[0]\n",
    "corpus += '\\n'\n",
    "\n",
    "for text_raw in corpus_raw[1:]:\n",
    "    corpus += clean_wiki_article(text_raw)\n",
    "    corpus += '\\n'"
   ]
  },
  {
   "cell_type": "code",
   "execution_count": 13,
   "metadata": {},
   "outputs": [],
   "source": [
    "with open('deep_learning_corpus_clean.txt', 'w') as fp:\n",
    "    fp.write(corpus)"
   ]
  },
  {
   "cell_type": "markdown",
   "metadata": {},
   "source": [
    "## Progress"
   ]
  },
  {
   "cell_type": "code",
   "execution_count": null,
   "metadata": {},
   "outputs": [
    {
     "name": "stdout",
     "output_type": "stream",
     "text": [
      "simply \"The Philosopher\". His ethics, though always influential, gained renewed interest with the modern advent of [[virtue ethics]].\n",
      "\n",
      "==Life==\n",
      "[[File:20160518 092 mieza nympheum.jpg | thumb | left | School of Aristotle in [[Mieza, Macedonia|Mieza]], [[Macedonia (Greece)|Macedonia, Greece]]]]\n",
      "\n",
      "In general, the details of Aristotle's life are not well-established. The biographies written in ancient \n"
     ]
    },
    {
     "ename": "AttributeError",
     "evalue": "'NoneType' object has no attribute 'start'",
     "output_type": "error",
     "traceback": [
      "\u001b[0;31m---------------------------------------------------------------------------\u001b[0m\n",
      "\u001b[0;31mAttributeError\u001b[0m                            Traceback (most recent call last)\n",
      "\u001b[1;32m/home/jules/documents/magma/magma-personal/distractor-model-experiments/exBERT/clean-corpus.ipynb Cell 6\u001b[0m in \u001b[0;36m<cell line: 13>\u001b[0;34m()\u001b[0m\n",
      "\u001b[1;32m     <a href='vscode-notebook-cell:/home/jules/documents/magma/magma-personal/distractor-model-experiments/exBERT/clean-corpus.ipynb#W5sZmlsZQ%3D%3D?line=10'>11</a>\u001b[0m \u001b[39mprint\u001b[39m(b[(pos\u001b[39m:=\u001b[39mre\u001b[39m.\u001b[39msearch(\u001b[39m'\u001b[39m\u001b[39mSchool of Aristotle\u001b[39m\u001b[39m'\u001b[39m, b)\u001b[39m.\u001b[39mstart())\u001b[39m-\u001b[39m\u001b[39m200\u001b[39m:pos\u001b[39m+\u001b[39m\u001b[39m200\u001b[39m])\n",
      "\u001b[1;32m     <a href='vscode-notebook-cell:/home/jules/documents/magma/magma-personal/distractor-model-experiments/exBERT/clean-corpus.ipynb#W5sZmlsZQ%3D%3D?line=11'>12</a>\u001b[0m b1 \u001b[39m=\u001b[39m parse(b)\n",
      "\u001b[0;32m---> <a href='vscode-notebook-cell:/home/jules/documents/magma/magma-personal/distractor-model-experiments/exBERT/clean-corpus.ipynb#W5sZmlsZQ%3D%3D?line=12'>13</a>\u001b[0m \u001b[39mprint\u001b[39m(b1[(pos\u001b[39m:=\u001b[39mre\u001b[39m.\u001b[39;49msearch(\u001b[39m'\u001b[39;49m\u001b[39mSchool of Aristotle\u001b[39;49m\u001b[39m'\u001b[39;49m, b1)\u001b[39m.\u001b[39;49mstart())\u001b[39m-\u001b[39m\u001b[39m200\u001b[39m:pos\u001b[39m+\u001b[39m\u001b[39m200\u001b[39m])\n",
      "\n",
      "\u001b[0;31mAttributeError\u001b[0m: 'NoneType' object has no attribute 'start'"
     ]
    }
   ],
   "source": [
    "# https://stackoverflow.com/questions/26385984/recursive-pattern-in-regex\n",
    "# https://stackoverflow.com/questions/59437266/regex-pattern-recursively-in-python\n",
    "\n",
    "import regex\n",
    "\n",
    "b = corpus_raw[1]\n",
    "print(b[(pos:=re.search('School of Aristotle', b).start())-200:pos+200])\n",
    "regex.findall(\"\\[\\[((?>[^\\[\\]]+|(?R))*)\\]\\]\", b)\n",
    "b1 = regex.sub(r'((?!^)\\[\\[(?:[^\\[\\]]*|(?R))+\\]\\])', '\\1', b)\n",
    "print(b1[(pos:=re.search('School of Aristotle', b1).start())-200:pos+200])\n",
    "\n",
    "def chars_at_level(s):\n",
    "    out = ['[']\n",
    "    nesting_level = 0\n",
    "\n",
    "    for c in s:\n",
    "        if c == '[':\n",
    "            nesting_level += 1\n",
    "        elif c == ']':\n",
    "            nesting_level -= 1\n",
    "        elif nesting_level == 1:\n",
    "            out.append(c)\n",
    "\n",
    "    out.append(']')\n",
    "    return ''.join(out)\n",
    "text = chars_at_level(text)\n",
    "\n",
    "def parse(string):\n",
    "    while True:\n",
    "        # output = re.sub(r'(?<!^)\\[\\[([^\\[\\]]*)\\]\\](?!$)', '', string)\n",
    "        output = re.sub(r'(\\[\\[[^\\[]*)\\[\\[[^\\]]+\\]\\]([^\\]]*\\]\\])', r'\\1 AA \\2', string)\n",
    "        if output == string:\n",
    "            break\n",
    "        string = output\n",
    "    return output\n",
    "\n",
    "\n",
    "\n",
    "b = corpus_raw[1]\n",
    "print(b[(pos:=re.search('School of Aristotle', b).start())-200:pos+200])\n",
    "b1 = parse(b)\n",
    "print(b1[(pos:=re.search('School of Aristotle', b1).start())-200:pos+200])\n",
    "\n",
    "# re.sub(r'(\\[\\[[^\\[]*)\\[\\[[^\\]]+\\]\\]([^\\]]*\\]\\])', r'\\1 AA \\2', text)"
   ]
  }
 ],
 "metadata": {
  "kernelspec": {
   "display_name": "ari9000",
   "language": "python",
   "name": "python3"
  },
  "language_info": {
   "codemirror_mode": {
    "name": "ipython",
    "version": 3
   },
   "file_extension": ".py",
   "mimetype": "text/x-python",
   "name": "python",
   "nbconvert_exporter": "python",
   "pygments_lexer": "ipython3",
   "version": "3.10.6"
  },
  "orig_nbformat": 4,
  "vscode": {
   "interpreter": {
    "hash": "7dfec854c942d72854ef0f8e3781a457ae83726d453fcf0b7c051713c404e130"
   }
  }
 },
 "nbformat": 4,
 "nbformat_minor": 2
}
